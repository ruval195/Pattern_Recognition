{
 "cells": [
  {
   "cell_type": "markdown",
   "id": "f32f16ce",
   "metadata": {},
   "source": [
    "# Análisis de Calidad del Café con Machine Learning\n",
    "\n",
    "El presente análisis tiene como objetivo explorar y visualizar tendencias ocultas en las evaluaciones sensoriales del café, con base en datos recolectados por catadores profesionales. Utilizaremos técnicas de análisis exploratorio, reducción de dimensionalidad y clustering no supervisado para descubrir patrones interesantes que puedan ser útiles para la industria cafetera."
   ]
  },
  {
   "cell_type": "code",
   "execution_count": null,
   "id": "31f2c218",
   "metadata": {},
   "outputs": [],
   "source": [
    "\n",
    "import pandas as pd\n",
    "import numpy as np\n",
    "import matplotlib.pyplot as plt\n",
    "import seaborn as sns\n",
    "from sklearn.preprocessing import StandardScaler\n",
    "from sklearn.decomposition import PCA\n",
    "from sklearn.cluster import KMeans\n",
    "from sklearn.metrics import silhouette_score\n",
    "\n",
    "# Cargar datos\n",
    "df = pd.read_csv('/content/data-1.csv')\n",
    "\n",
    "# Mostrar las primeras filas\n",
    "df.head()\n"
   ]
  },
  {
   "cell_type": "markdown",
   "id": "34bd2078",
   "metadata": {},
   "source": [
    "## Exploración Inicial de los Datos\n",
    "\n",
    "Observamos las variables disponibles, su tipo, la presencia de valores nulos y la distribución de algunas métricas clave relacionadas con la calidad del grano de café."
   ]
  },
  {
   "cell_type": "code",
   "execution_count": null,
   "id": "9884de5c",
   "metadata": {},
   "outputs": [],
   "source": [
    "\n",
    "# Información general\n",
    "df.info()\n",
    "\n",
    "# Estadísticas descriptivas\n",
    "df.describe()\n",
    "\n",
    "# Revisar valores nulos\n",
    "df.isnull().sum()\n"
   ]
  },
  {
   "cell_type": "code",
   "execution_count": null,
   "id": "25669125",
   "metadata": {},
   "outputs": [],
   "source": [
    "\n",
    "# Seleccionamos únicamente las variables sensoriales que nos interesan\n",
    "features = ['Aroma', 'Flavor', 'Aftertaste', 'Acidity', 'Body', 'Balance', \n",
    "            'Uniformity', 'Clean Cup', 'Sweetness']\n",
    "\n",
    "data = df[features]\n",
    "\n",
    "# Eliminamos filas con valores faltantes\n",
    "data_clean = data.dropna()\n",
    "\n",
    "# Escalamos los datos\n",
    "scaler = StandardScaler()\n",
    "data_scaled = scaler.fit_transform(data_clean)\n"
   ]
  },
  {
   "cell_type": "markdown",
   "id": "7db86934",
   "metadata": {},
   "source": [
    "## Representación Bidimensional con PCA\n",
    "\n",
    "Utilizamos Análisis de Componentes Principales (PCA) para visualizar los datos en un espacio 2D. Esto nos permitirá detectar visualmente posibles agrupaciones o patrones de calidad en el café."
   ]
  },
  {
   "cell_type": "code",
   "execution_count": null,
   "id": "29ee526d",
   "metadata": {},
   "outputs": [],
   "source": [
    "\n",
    "pca = PCA(n_components=2)\n",
    "data_pca = pca.fit_transform(data_scaled)\n",
    "\n",
    "# Visualización\n",
    "plt.figure(figsize=(8,6))\n",
    "plt.scatter(data_pca[:,0], data_pca[:,1], alpha=0.6, c='teal')\n",
    "plt.xlabel('Componente Principal 1')\n",
    "plt.ylabel('Componente Principal 2')\n",
    "plt.title('Proyección PCA de Evaluaciones Sensoriales')\n",
    "plt.grid(True)\n",
    "plt.show()\n"
   ]
  },
  {
   "cell_type": "markdown",
   "id": "988f0939",
   "metadata": {},
   "source": [
    "## Agrupamiento con KMeans\n",
    "\n",
    "A continuación aplicamos KMeans para detectar grupos naturales en los datos embebidos. Usamos el coeficiente de silueta para determinar un número óptimo de clusters."
   ]
  },
  {
   "cell_type": "code",
   "execution_count": null,
   "id": "4f621fdd",
   "metadata": {},
   "outputs": [],
   "source": [
    "\n",
    "# Prueba varios valores de K y mide el score\n",
    "silhouette_scores = []\n",
    "for k in range(2, 10):\n",
    "    kmeans = KMeans(n_clusters=k, random_state=42)\n",
    "    labels = kmeans.fit_predict(data_pca)\n",
    "    score = silhouette_score(data_pca, labels)\n",
    "    silhouette_scores.append(score)\n",
    "\n",
    "# Visualizamos el mejor número de clusters\n",
    "plt.plot(range(2, 10), silhouette_scores, marker='o')\n",
    "plt.title('Silhouette Score para diferentes K')\n",
    "plt.xlabel('Número de Clusters')\n",
    "plt.ylabel('Silhouette Score')\n",
    "plt.grid(True)\n",
    "plt.show()\n",
    "\n",
    "# Elegimos el mejor número de clusters (mayor score)\n",
    "best_k = np.argmax(silhouette_scores) + 2\n",
    "kmeans = KMeans(n_clusters=best_k, random_state=42)\n",
    "labels = kmeans.fit_predict(data_pca)\n",
    "\n",
    "# Visualizamos clusters\n",
    "plt.figure(figsize=(8,6))\n",
    "sns.scatterplot(x=data_pca[:,0], y=data_pca[:,1], hue=labels, palette='Set2')\n",
    "plt.title(f'Clusters de Evaluaciones Sensoriales (k={best_k})')\n",
    "plt.xlabel('Componente Principal 1')\n",
    "plt.ylabel('Componente Principal 2')\n",
    "plt.legend(title='Cluster')\n",
    "plt.grid(True)\n",
    "plt.show()\n"
   ]
  },
  {
   "cell_type": "markdown",
   "id": "38fb22bd",
   "metadata": {},
   "source": [
    "## Estadísticas por Grupo\n",
    "\n",
    "Veamos ahora qué caracteriza a cada grupo detectado por KMeans. Esto puede ayudar a entender distintos perfiles sensoriales de café evaluados."
   ]
  },
  {
   "cell_type": "code",
   "execution_count": null,
   "id": "6c2a0a88",
   "metadata": {},
   "outputs": [],
   "source": [
    "\n",
    "data_clustered = data_clean.copy()\n",
    "data_clustered['Cluster'] = labels\n",
    "\n",
    "# Media por cluster\n",
    "cluster_means = data_clustered.groupby('Cluster').mean()\n",
    "cluster_means.T\n"
   ]
  },
  {
   "cell_type": "markdown",
   "id": "8b5670b5",
   "metadata": {},
   "source": [
    "\n",
    "## Conclusiones\n",
    "\n",
    "Se identificaron **clusters diferenciados** entre los perfiles sensoriales del café, basados en evaluaciones de Aroma, Sabor, Retrogusto, Acidez, Cuerpo, Balance, Uniformidad, Taza Limpia y Dulzura.\n",
    "\n",
    "Cada grupo representa un **perfil sensorial característico**, lo cual puede servir para clasificar granos de café según su experiencia de cata. Por ejemplo, hay clusters con alto Aroma y Dulzura pero bajo Cuerpo, mientras otros se distinguen por un mayor Balance y Retrogusto.\n",
    "\n",
    "Estos hallazgos pueden ser útiles para:\n",
    "- Guiar decisiones de compra y mezcla de granos.\n",
    "- Personalizar recomendaciones de café según preferencias de sabor.\n",
    "- Identificar oportunidades de mejora en la calidad de producción.\n",
    "\n",
    "Se recomienda continuar el análisis con otros metadatos (origen, altura, procesamiento) si están disponibles.\n"
   ]
  }
 ],
 "metadata": {},
 "nbformat": 4,
 "nbformat_minor": 5
}