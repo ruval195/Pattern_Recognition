{
  "nbformat": 4,
  "nbformat_minor": 0,
  "metadata": {
    "colab": {
      "provenance": [],
      "authorship_tag": "ABX9TyOQd3L0nOYV9Jl3Z517QxAh",
      "include_colab_link": true
    },
    "kernelspec": {
      "name": "python3",
      "display_name": "Python 3"
    },
    "language_info": {
      "name": "python"
    }
  },
  "cells": [
    {
      "cell_type": "markdown",
      "metadata": {
        "id": "view-in-github",
        "colab_type": "text"
      },
      "source": [
        "<a href=\"https://colab.research.google.com/github/ruval195/Pattern_Recognition/blob/main/A08_Algoritmos_de_agrupaci%C3%B3n.ipynb\" target=\"_parent\"><img src=\"https://colab.research.google.com/assets/colab-badge.svg\" alt=\"Open In Colab\"/></a>"
      ]
    },
    {
      "cell_type": "markdown",
      "source": [
        "# Reconocimeinto de Patrones\n",
        "## Diego Francisco Ruvalcaba Loredo\n",
        "## A08 Algoritmos de agrupación"
      ],
      "metadata": {
        "id": "LZh17VGP575A"
      }
    },
    {
      "cell_type": "markdown",
      "source": [
        "### Mall_Customers"
      ],
      "metadata": {
        "id": "Z9dQQUQ4cQni"
      }
    },
    {
      "cell_type": "markdown",
      "source": [
        "Librerias"
      ],
      "metadata": {
        "id": "vPU7o90r6NZW"
      }
    },
    {
      "cell_type": "code",
      "execution_count": 24,
      "metadata": {
        "id": "rlAEmCvD5uUw"
      },
      "outputs": [],
      "source": [
        "import pandas as pd\n",
        "from sklearn.preprocessing import StandardScaler, LabelEncoder\n",
        "from sklearn.cluster import KMeans, Birch, SpectralClustering, DBSCAN, OPTICS\n",
        "from sklearn.mixture import GaussianMixture\n",
        "from sklearn.metrics import silhouette_score"
      ]
    },
    {
      "cell_type": "markdown",
      "source": [
        "Descargar csv"
      ],
      "metadata": {
        "id": "i44e_TgS6umy"
      }
    },
    {
      "cell_type": "code",
      "source": [
        "!wget 'https://raw.githubusercontent.com/Dr-Carlos-Villasenor/PatternRecognition/main/Dataset/Mall_Customers.csv'\n",
        "df = pd.read_csv('Mall_Customers.csv')"
      ],
      "metadata": {
        "colab": {
          "base_uri": "https://localhost:8080/",
          "height": 0
        },
        "id": "ZxbcADAn67eA",
        "outputId": "d18518d9-8ac0-4c17-b26f-28c9d5a532d9"
      },
      "execution_count": 25,
      "outputs": [
        {
          "output_type": "stream",
          "name": "stdout",
          "text": [
            "--2025-03-24 02:26:13--  https://raw.githubusercontent.com/Dr-Carlos-Villasenor/PatternRecognition/main/Dataset/Mall_Customers.csv\n",
            "Resolving raw.githubusercontent.com (raw.githubusercontent.com)... 185.199.108.133, 185.199.109.133, 185.199.110.133, ...\n",
            "Connecting to raw.githubusercontent.com (raw.githubusercontent.com)|185.199.108.133|:443... connected.\n",
            "HTTP request sent, awaiting response... 200 OK\n",
            "Length: 3981 (3.9K) [text/plain]\n",
            "Saving to: ‘Mall_Customers.csv.5’\n",
            "\n",
            "\rMall_Customers.csv.   0%[                    ]       0  --.-KB/s               \rMall_Customers.csv. 100%[===================>]   3.89K  --.-KB/s    in 0s      \n",
            "\n",
            "2025-03-24 02:26:13 (54.8 MB/s) - ‘Mall_Customers.csv.5’ saved [3981/3981]\n",
            "\n"
          ]
        }
      ]
    },
    {
      "cell_type": "markdown",
      "source": [
        "Manejo de datos"
      ],
      "metadata": {
        "id": "7hJQgYoz75AT"
      }
    },
    {
      "cell_type": "code",
      "source": [
        "label_encoder = LabelEncoder()\n",
        "df['Gender'] = label_encoder.fit_transform(df['Gender'])\n",
        "\n",
        "X = df[['Age', 'Gender', 'Annual Income (k$)', 'Spending Score (1-100)']]\n",
        "\n",
        "scaler = StandardScaler()\n",
        "X_scaled = scaler.fit_transform(X)"
      ],
      "metadata": {
        "id": "16Y78Ej_8Ive"
      },
      "execution_count": 26,
      "outputs": []
    },
    {
      "cell_type": "markdown",
      "source": [
        "Definir los modelos de agrupacion"
      ],
      "metadata": {
        "id": "FBw5xV0-8ReJ"
      }
    },
    {
      "cell_type": "code",
      "source": [
        "models = {\n",
        "    \"KMeans\": KMeans(n_clusters=5, random_state=42),\n",
        "    \"BIRCH\": Birch(n_clusters=5),\n",
        "    \"Spectral\": SpectralClustering(n_clusters=5, random_state=42, affinity='nearest_neighbors'),\n",
        "    \"GaussianMixture\": GaussianMixture(n_components=5, random_state=42)\n",
        "}"
      ],
      "metadata": {
        "id": "nAudvZSL8Uu9"
      },
      "execution_count": 27,
      "outputs": []
    },
    {
      "cell_type": "markdown",
      "source": [
        "Evaluacion"
      ],
      "metadata": {
        "id": "dpwzbA6b8ej9"
      }
    },
    {
      "cell_type": "code",
      "source": [
        "silhouette_scores = {}\n",
        "best_model = None\n",
        "best_score = -1\n",
        "best_labels = None\n",
        "\n",
        "for name, model in models.items():\n",
        "  labels = model.fit_predict(X_scaled)\n",
        "  if len(set(labels)) > 1:\n",
        "      score = silhouette_score(X_scaled, labels)\n",
        "  else:\n",
        "      score = -1\n",
        "  silhouette_scores[name] = score\n",
        "\n",
        "  if score > best_score:\n",
        "      best_score = score\n",
        "      best_model = name\n",
        "      best_labels = labels\n",
        "for model, score in silhouette_scores.items():\n",
        "    print(f\"{model}: Silhouette Score = {score}\")"
      ],
      "metadata": {
        "id": "YFMkYoVX8gh8",
        "outputId": "ab33d0a2-2d28-4d9b-c04c-f6a098111af0",
        "colab": {
          "base_uri": "https://localhost:8080/",
          "height": 0
        }
      },
      "execution_count": 28,
      "outputs": [
        {
          "output_type": "stream",
          "name": "stdout",
          "text": [
            "KMeans: Silhouette Score = 0.27191023466188324\n",
            "BIRCH: Silhouette Score = 0.2913443795516307\n",
            "Spectral: Silhouette Score = 0.2516933506936402\n",
            "GaussianMixture: Silhouette Score = 0.22164014854021982\n"
          ]
        }
      ]
    },
    {
      "cell_type": "markdown",
      "source": [
        "Descripcion de segmento"
      ],
      "metadata": {
        "id": "t15_sFkY9cVb"
      }
    },
    {
      "cell_type": "code",
      "source": [
        "df['Cluster'] = best_labels\n",
        "\n",
        "cluster_summary = df.groupby(\"Cluster\")[['Age', 'Gender', 'Annual Income (k$)', 'Spending Score (1-100)']].describe()\n",
        "\n",
        "print(f\"\\nMejor modelo: {best_model} con un coeficiente de silueta de {best_score}\")\n",
        "print(cluster_summary)"
      ],
      "metadata": {
        "id": "rGEWpYm79iwR",
        "outputId": "6acb832d-7417-4346-af65-adc51847cfbd",
        "colab": {
          "base_uri": "https://localhost:8080/",
          "height": 0
        }
      },
      "execution_count": 29,
      "outputs": [
        {
          "output_type": "stream",
          "name": "stdout",
          "text": [
            "\n",
            "Mejor modelo: BIRCH con un coeficiente de silueta de 0.2913443795516307\n",
            "          Age                                                     Gender  \\\n",
            "        count       mean        std   min   25%   50%   75%   max  count   \n",
            "Cluster                                                                    \n",
            "0        45.0  50.244444  14.116650  19.0  43.0  50.0  60.0  70.0   45.0   \n",
            "1        46.0  30.000000   9.906227  18.0  23.0  27.5  35.0  58.0   46.0   \n",
            "2        39.0  32.692308   3.728650  27.0  30.0  32.0  35.5  40.0   39.0   \n",
            "3        45.0  49.133333   9.428198  34.0  43.0  49.0  54.0  68.0   45.0   \n",
            "4        25.0  25.720000   7.115242  18.0  19.0  24.0  31.0  40.0   25.0   \n",
            "\n",
            "                   ... Annual Income (k$)        Spending Score (1-100)  \\\n",
            "             mean  ...                75%    max                  count   \n",
            "Cluster            ...                                                    \n",
            "0        1.000000  ...               78.0  137.0                   45.0   \n",
            "1        0.000000  ...               54.0   76.0                   46.0   \n",
            "2        0.461538  ...               95.0  137.0                   39.0   \n",
            "3        0.000000  ...               78.0  126.0                   45.0   \n",
            "4        1.000000  ...               54.0   67.0                   25.0   \n",
            "\n",
            "                                                              \n",
            "              mean        std   min   25%   50%    75%   max  \n",
            "Cluster                                                       \n",
            "0        29.022222  19.537248   1.0  11.0  29.0  46.00  60.0  \n",
            "1        49.000000  24.815766   5.0  32.5  47.5  70.25  99.0  \n",
            "2        82.128205   9.364489  63.0  74.5  83.0  90.00  97.0  \n",
            "3        40.044444  15.305904   5.0  28.0  43.0  52.00  60.0  \n",
            "4        59.000000  18.227726  13.0  49.0  56.0  73.00  92.0  \n",
            "\n",
            "[5 rows x 32 columns]\n"
          ]
        }
      ]
    }
  ]
}